{
  "cells": [
    {
      "cell_type": "markdown",
      "metadata": {
        "id": "view-in-github",
        "colab_type": "text"
      },
      "source": [
        "<a href=\"https://colab.research.google.com/github/Rushikeshf01/learn/blob/main/stemming.ipynb\" target=\"_parent\"><img src=\"https://colab.research.google.com/assets/colab-badge.svg\" alt=\"Open In Colab\"/></a>"
      ]
    },
    {
      "cell_type": "code",
      "execution_count": 29,
      "metadata": {
        "id": "6quxsbou5_-5"
      },
      "outputs": [],
      "source": [
        "import nltk\n",
        "from nltk.stem import PorterStemmer\n",
        "from nltk.corpus import stopwords"
      ]
    },
    {
      "cell_type": "code",
      "source": [
        "nltk.download(\"punkt\")\n",
        "nltk.download(\"stopwords\")"
      ],
      "metadata": {
        "colab": {
          "base_uri": "https://localhost:8080/"
        },
        "id": "d5dwwfFX2LWQ",
        "outputId": "c87b0411-b0ab-4bb3-9be8-7759dcc350be"
      },
      "execution_count": 30,
      "outputs": [
        {
          "output_type": "stream",
          "name": "stderr",
          "text": [
            "[nltk_data] Downloading package punkt to /root/nltk_data...\n",
            "[nltk_data]   Package punkt is already up-to-date!\n",
            "[nltk_data] Downloading package stopwords to /root/nltk_data...\n",
            "[nltk_data]   Unzipping corpora/stopwords.zip.\n"
          ]
        },
        {
          "output_type": "execute_result",
          "data": {
            "text/plain": [
              "True"
            ]
          },
          "metadata": {},
          "execution_count": 30
        }
      ]
    },
    {
      "cell_type": "code",
      "execution_count": 31,
      "metadata": {
        "id": "E-gRgv4n5_-_"
      },
      "outputs": [],
      "source": [
        "para = \"\"\"Sisters and Brothers of America,\n",
        "\n",
        "It fills my heart with joy unspeakable to rise in response to the warm and cordial welcome which you have given us. I thank you in the name of the most ancient order of monks in the world; I thank you in the name of the mother of religions; and I thank you in the name of the millions and millions of Hindu people of all classes and sects.\n",
        "\n",
        "My thanks, also, to some of the speakers on this platform who, referring to the delegates from the Orient, have told you that these men from far-off nations may well claim the honour of bearing to different lands the idea of toleration. I am proud to belong to a religion which has taught the world both tolerance and universal acceptance. We believe not only in universal toleration, but we accept all religions as true. I am proud to belong to a nation which has sheltered the persecuted and the refugees of all religions and all nations of the earth. I am proud to tell you that we have gathered in our bosom the purest remnant of the Israelites, who came to southern India and took refuge with us in the very year in which their holy temple was shattered to pieces by Roman tyranny. I am proud to belong to the religion which has sheltered and is still fostering the remnant of the grand Zoroastrian nation. I will quote to you, brethren, a few lines from a hymn which I remember to have repeated from my earliest boyhood, which is every day repeated by millions of human beings: 'As the different streams having their sources in different places all mingle their water in the sea, so, O Lord, the different paths which men take through different tendencies, various though they appear, crooked or straight, all lead to Thee.'\n",
        "\n",
        "The present convention, which is one of the most august assemblies ever held, is in itself a vindication, a declaration to the world, of the wonderful doctrine preached in the Gita: 'Whosoever comes to Me, through whatsoever form, I reach him; all men are struggling through paths which in the end lead to Me.' Sectarianism, bigotry, and its horrible descendant, fanaticism, have long possessed this beautiful earth. They have filled the earth with violence, drenched it often and often with human blood, destroyed civilization, and sent whole nations to despair. Had it not been for these horrible demons, human society would be far more advanced than it is now. But their time is come; and I fervently hope that the bell that tolled this morning in honour of this convention may be the death-knell of all fanaticism, of all persecutions with the sword or with the pen, and of all uncharitable feelings between persons wending their way to the same goal.\"\"\""
      ]
    },
    {
      "cell_type": "code",
      "execution_count": 36,
      "metadata": {
        "colab": {
          "base_uri": "https://localhost:8080/"
        },
        "id": "5dn7VDBW5__B",
        "outputId": "adac9fab-0178-47d6-baea-adba06521662"
      },
      "outputs": [
        {
          "output_type": "execute_result",
          "data": {
            "text/plain": [
              "['Sisters and Brothers of America,\\n\\nIt fills my heart with joy unspeakable to rise in response to the warm and cordial welcome which you have given us.',\n",
              " 'I thank you in the name of the most ancient order of monks in the world; I thank you in the name of the mother of religions; and I thank you in the name of the millions and millions of Hindu people of all classes and sects.',\n",
              " 'My thanks, also, to some of the speakers on this platform who, referring to the delegates from the Orient, have told you that these men from far-off nations may well claim the honour of bearing to different lands the idea of toleration.',\n",
              " 'I am proud to belong to a religion which has taught the world both tolerance and universal acceptance.',\n",
              " 'We believe not only in universal toleration, but we accept all religions as true.',\n",
              " 'I am proud to belong to a nation which has sheltered the persecuted and the refugees of all religions and all nations of the earth.',\n",
              " 'I am proud to tell you that we have gathered in our bosom the purest remnant of the Israelites, who came to southern India and took refuge with us in the very year in which their holy temple was shattered to pieces by Roman tyranny.',\n",
              " 'I am proud to belong to the religion which has sheltered and is still fostering the remnant of the grand Zoroastrian nation.',\n",
              " \"I will quote to you, brethren, a few lines from a hymn which I remember to have repeated from my earliest boyhood, which is every day repeated by millions of human beings: 'As the different streams having their sources in different places all mingle their water in the sea, so, O Lord, the different paths which men take through different tendencies, various though they appear, crooked or straight, all lead to Thee.'\",\n",
              " \"The present convention, which is one of the most august assemblies ever held, is in itself a vindication, a declaration to the world, of the wonderful doctrine preached in the Gita: 'Whosoever comes to Me, through whatsoever form, I reach him; all men are struggling through paths which in the end lead to Me.'\",\n",
              " 'Sectarianism, bigotry, and its horrible descendant, fanaticism, have long possessed this beautiful earth.',\n",
              " 'They have filled the earth with violence, drenched it often and often with human blood, destroyed civilization, and sent whole nations to despair.',\n",
              " 'Had it not been for these horrible demons, human society would be far more advanced than it is now.',\n",
              " 'But their time is come; and I fervently hope that the bell that tolled this morning in honour of this convention may be the death-knell of all fanaticism, of all persecutions with the sword or with the pen, and of all uncharitable feelings between persons wending their way to the same goal.']"
            ]
          },
          "metadata": {},
          "execution_count": 36
        }
      ],
      "source": [
        "sentences = nltk.sent_tokenize(para)\n",
        "stemmer = PorterStemmer()\n",
        "sentences"
      ]
    },
    {
      "cell_type": "code",
      "execution_count": 35,
      "metadata": {
        "colab": {
          "base_uri": "https://localhost:8080/"
        },
        "id": "9GdDj-8p5__C",
        "outputId": "472be47c-d20e-4b3b-ce4d-301df553769e"
      },
      "outputs": [
        {
          "output_type": "execute_result",
          "data": {
            "text/plain": [
              "['sister brother america , fill heart joy unspeak rise respon warm cordial welcom given us .',\n",
              " 'thank name ancient order monk world ; thank name mother religion ; thank name million million hindu peopl class sect .',\n",
              " 'thank , also , speaker platform , refer deleg orient , told men far-off nation may well claim honour bear differ land idea toler .',\n",
              " 'proud belong religion taught world toler univ accept .',\n",
              " 'believ univ toler , accept religion true .',\n",
              " 'proud belong nation shelter persecut refug religion nation earth .',\n",
              " 'proud tell gather bosom purest remnant israelit , came southern india took refug us year holi templ shatter piec roman tyranni .',\n",
              " 'proud belong religion shelter still foster remnant grand zoroastrian nation .',\n",
              " \"quot , brethren , line hymn rememb repeat earliest boyhood , everi day repeat million human : ' differ stream sourc differ place mingl water sea , , lord , differ path men take differ tendenc , variou though appear , crook straight , lead thee . '\",\n",
              " \"present convent , one august assembl ever held , vindic , declar world , wonder doctrin preach gita : 'whosoev come , whatsoev form , reach ; men struggl path end lead . '\",\n",
              " 'sectarian , bigotri , horribl descend , fanat , long possess beauti earth .',\n",
              " 'fill earth violenc , drench often often human blood , destroy civil , sent whole nation despair .',\n",
              " 'horribl demon , human societi would far advanc .',\n",
              " 'time come ; fervent hope bell toll morn honour convent may death-knel fanat , persecut sword pen , uncharit feel person wend way goal .']"
            ]
          },
          "metadata": {},
          "execution_count": 35
        }
      ],
      "source": [
        "for i in range(len(sentences)):\n",
        "    words = nltk.word_tokenize(sentences[i])\n",
        "    words = [stemmer.stem(word) for word in words if word not in set(stopwords.words('english'))]\n",
        "    sentences[i] = ' '.join(words)\n",
        "\n",
        "sentences"
      ]
    },
    {
      "cell_type": "code",
      "execution_count": null,
      "metadata": {
        "id": "GsU3Qk6w5__D"
      },
      "outputs": [],
      "source": []
    }
  ],
  "metadata": {
    "kernelspec": {
      "display_name": "Python 3",
      "language": "python",
      "name": "python3"
    },
    "language_info": {
      "codemirror_mode": {
        "name": "ipython",
        "version": 3
      },
      "file_extension": ".py",
      "mimetype": "text/x-python",
      "name": "python",
      "nbconvert_exporter": "python",
      "pygments_lexer": "ipython3",
      "version": "3.10.6"
    },
    "orig_nbformat": 4,
    "colab": {
      "provenance": [],
      "include_colab_link": true
    }
  },
  "nbformat": 4,
  "nbformat_minor": 0
}
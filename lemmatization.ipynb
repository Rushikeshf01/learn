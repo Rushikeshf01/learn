{
  "nbformat": 4,
  "nbformat_minor": 0,
  "metadata": {
    "colab": {
      "provenance": [],
      "authorship_tag": "ABX9TyMccY9Xl5cZrBGq5uj/fJJ0",
      "include_colab_link": true
    },
    "kernelspec": {
      "name": "python3",
      "display_name": "Python 3"
    },
    "language_info": {
      "name": "python"
    }
  },
  "cells": [
    {
      "cell_type": "markdown",
      "metadata": {
        "id": "view-in-github",
        "colab_type": "text"
      },
      "source": [
        "<a href=\"https://colab.research.google.com/github/Rushikeshf01/learn/blob/main/lemmatization.ipynb\" target=\"_parent\"><img src=\"https://colab.research.google.com/assets/colab-badge.svg\" alt=\"Open In Colab\"/></a>"
      ]
    },
    {
      "cell_type": "code",
      "execution_count": 1,
      "metadata": {
        "id": "uZEynuXQ6tpi"
      },
      "outputs": [],
      "source": [
        "import nltk\n",
        "from nltk.stem import WordNetLemmatizer\n",
        "from nltk.corpus import stopwords"
      ]
    },
    {
      "cell_type": "code",
      "source": [
        "nltk.download(\"punkt\")\n",
        "nltk.download(\"stopwords\")\n",
        "nltk.download('wordnet')"
      ],
      "metadata": {
        "colab": {
          "base_uri": "https://localhost:8080/"
        },
        "id": "7lu-cQ3L8l-E",
        "outputId": "2f08bf74-0484-4eaa-d5de-c5cfac871d2f"
      },
      "execution_count": 10,
      "outputs": [
        {
          "output_type": "stream",
          "name": "stderr",
          "text": [
            "[nltk_data] Downloading package punkt to /root/nltk_data...\n",
            "[nltk_data]   Package punkt is already up-to-date!\n",
            "[nltk_data] Downloading package stopwords to /root/nltk_data...\n",
            "[nltk_data]   Package stopwords is already up-to-date!\n",
            "[nltk_data] Downloading package wordnet to /root/nltk_data...\n",
            "[nltk_data]   Package wordnet is already up-to-date!\n"
          ]
        },
        {
          "output_type": "execute_result",
          "data": {
            "text/plain": [
              "True"
            ]
          },
          "metadata": {},
          "execution_count": 10
        }
      ]
    },
    {
      "cell_type": "code",
      "source": [
        "para = \"\"\"Sisters and Brothers of America,\n",
        "It fills my heart with joy unspeakable to rise in response to the warm and cordial welcome which you have given us. I thank you in the name of the most ancient order of monks in the world; I thank you in the name of the mother of religions; and I thank you in the name of the millions and millions of Hindu people of all classes and sects.\n",
        "My thanks, also, to some of the speakers on this platform who, referring to the delegates from the Orient, have told you that these men from far-off nations may well claim the honour of bearing to different lands the idea of toleration. I am proud to belong to a religion which has taught the world both tolerance and universal acceptance. We believe not only in universal toleration, but we accept all religions as true. I am proud to belong to a nation which has sheltered the persecuted and the refugees of all religions and all nations of the earth. I am proud to tell you that we have gathered in our bosom the purest remnant of the Israelites, who came to southern India and took refuge with us in the very year in which their holy temple was shattered to pieces by Roman tyranny. I am proud to belong to the religion which has sheltered and is still fostering the remnant of the grand Zoroastrian nation. I will quote to you, brethren, a few lines from a hymn which I remember to have repeated from my earliest boyhood, which is every day repeated by millions of human beings: 'As the different streams having their sources in different places all mingle their water in the sea, so, O Lord, the different paths which men take through different tendencies, various though they appear, crooked or straight, all lead to Thee.'\n",
        "The present convention, which is one of the most august assemblies ever held, is in itself a vindication, a declaration to the world, of the wonderful doctrine preached in the Gita: 'Whosoever comes to Me, through whatsoever form, I reach him; all men are struggling through paths which in the end lead to Me.' Sectarianism, bigotry, and its horrible descendant, fanaticism, have long possessed this beautiful earth. They have filled the earth with violence, drenched it often and often with human blood, destroyed civilization, and sent whole nations to despair. Had it not been for these horrible demons, human society would be far more advanced than it is now. But their time is come; and I fervently hope that the bell that tolled this morning in honour of this convention may be the death-knell of all fanaticism, of all persecutions with the sword or with the pen, and of all uncharitable feelings between persons wending their way to the same goal.\"\"\""
      ],
      "metadata": {
        "id": "H3n7DEq68mAt"
      },
      "execution_count": 11,
      "outputs": []
    },
    {
      "cell_type": "code",
      "source": [
        "sentences = nltk.sent_tokenize(para)\n",
        "lematizer = WordNetLemmatizer()"
      ],
      "metadata": {
        "id": "D8xQB8Tg8mDS"
      },
      "execution_count": 12,
      "outputs": []
    },
    {
      "cell_type": "code",
      "source": [
        "for i in range(len(sentences)):\n",
        "  words = nltk.word_tokenize(sentences[i])\n",
        "  words = [lematizer.lemmatize(word) for word in words if word not in set(stopwords.words('english'))]\n",
        "  sentences[i] = ' '.join(words)\n",
        "\n",
        "sentences"
      ],
      "metadata": {
        "colab": {
          "base_uri": "https://localhost:8080/"
        },
        "id": "EIpAbFIS8mF7",
        "outputId": "5041c0a0-c407-41b8-f476-09c69223728a"
      },
      "execution_count": 14,
      "outputs": [
        {
          "output_type": "execute_result",
          "data": {
            "text/plain": [
              "['Sisters Brothers America , It fill heart joy unspeakable rise response warm cordial welcome given u .',\n",
              " 'I thank name ancient order monk world ; I thank name mother religion ; I thank name million million Hindu people class sect .',\n",
              " 'My thanks , also , speaker platform , referring delegate Orient , told men far-off nation may well claim honour bearing different land idea toleration .',\n",
              " 'I proud belong religion taught world tolerance universal acceptance .',\n",
              " 'We believe universal toleration , accept religion true .',\n",
              " 'I proud belong nation sheltered persecuted refugee religion nation earth .',\n",
              " 'I proud tell gathered bosom purest remnant Israelites , came southern India took refuge u year holy temple shattered piece Roman tyranny .',\n",
              " 'I proud belong religion sheltered still fostering remnant grand Zoroastrian nation .',\n",
              " \"I quote , brother , line hymn I remember repeated earliest boyhood , every day repeated million human : 'As different stream source different place mingle water sea , , O Lord , different path men take different tendency , various though appear , crooked straight , lead Thee . '\",\n",
              " \"The present convention , one august assembly ever held , vindication , declaration world , wonderful doctrine preached Gita : 'Whosoever come Me , whatsoever form , I reach ; men struggling path end lead Me . '\",\n",
              " 'Sectarianism , bigotry , horrible descendant , fanaticism , long possessed beautiful earth .',\n",
              " 'They filled earth violence , drenched often often human blood , destroyed civilization , sent whole nation despair .',\n",
              " 'Had horrible demon , human society would far advanced .',\n",
              " 'But time come ; I fervently hope bell tolled morning honour convention may death-knell fanaticism , persecution sword pen , uncharitable feeling person wending way goal .']"
            ]
          },
          "metadata": {},
          "execution_count": 14
        }
      ]
    },
    {
      "cell_type": "markdown",
      "source": [
        "# Older result of stemming\n",
        "\n",
        "['sister brother america , fill heart joy unspeak rise respon warm cordial welcom given us .',\n",
        " 'thank name ancient order monk world ; thank name mother religion ; thank name million million hindu peopl class sect .',\n",
        " 'thank , also , speaker platform , refer deleg orient , told men far-off nation may well claim honour bear differ land idea toler .',\n",
        " 'proud belong religion taught world toler univ accept .',\n",
        " 'believ univ toler , accept religion true .',\n",
        " 'proud belong nation shelter persecut refug religion nation earth .',\n",
        " 'proud tell gather bosom purest remnant israelit , came southern india took refug us year holi templ shatter piec roman tyranni .',\n",
        " 'proud belong religion shelter still foster remnant grand zoroastrian nation .',\n",
        " \"quot , brethren , line hymn rememb repeat earliest boyhood , everi day repeat million human : ' differ stream sourc differ place mingl water sea , , lord , differ path men take differ tendenc , variou though appear , crook straight , lead thee . '\",\n",
        " \"present convent , one august assembl ever held , vindic , declar world , wonder doctrin preach gita : 'whosoev come , whatsoev form , reach ; men struggl path end lead . '\",\n",
        " 'sectarian , bigotri , horribl descend , fanat , long possess beauti earth .',\n",
        " 'fill earth violenc , drench often often human blood , destroy civil , sent whole nation despair .',\n",
        " 'horribl demon , human societi would far advanc .',\n",
        " 'time come ; fervent hope bell toll morn honour convent may death-knel fanat , persecut sword pen , uncharit feel person wend way goal .']**bold text**"
      ],
      "metadata": {
        "id": "3I9Ef6we__Hq"
      }
    }
  ]
}